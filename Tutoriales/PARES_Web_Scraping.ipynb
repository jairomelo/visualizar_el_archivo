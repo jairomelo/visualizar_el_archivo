{
  "nbformat": 4,
  "nbformat_minor": 0,
  "metadata": {
    "colab": {
      "name": "PARES_Web_Scraping.ipynb",
      "version": "0.3.2",
      "provenance": [],
      "collapsed_sections": [],
      "include_colab_link": true
    },
    "kernelspec": {
      "name": "python3",
      "display_name": "Python 3"
    }
  },
  "cells": [
    {
      "cell_type": "markdown",
      "metadata": {
        "id": "view-in-github",
        "colab_type": "text"
      },
      "source": [
        "<a href=\"https://colab.research.google.com/github/jairomelo/visualizar_el_archivo/blob/notebooks/Tutoriales/PARES_Web_Scraping.ipynb\" target=\"_parent\"><img src=\"https://colab.research.google.com/assets/colab-badge.svg\" alt=\"Open In Colab\"/></a>"
      ]
    },
    {
      "metadata": {
        "id": "HEWWpzvOGnqB",
        "colab_type": "text"
      },
      "cell_type": "markdown",
      "source": [
        "# Web Scraping PARES\n"
      ]
    },
    {
      "metadata": {
        "id": "1VAidFM-5rdm",
        "colab_type": "code",
        "colab": {}
      },
      "cell_type": "code",
      "source": [
        "#!/usr/bin/env python3\n",
        "# -*- coding: utf-8 -*-"
      ],
      "execution_count": 0,
      "outputs": []
    },
    {
      "metadata": {
        "id": "wUXio7pK5_KZ",
        "colab_type": "code",
        "colab": {}
      },
      "cell_type": "code",
      "source": [
        "##### Urllib\n",
        "\n",
        "import urllib.request\n",
        "\n",
        "url = \"http://pares.mcu.es/ParesBusquedas20/catalogo/contiene/1930216\"\n",
        "ur = urllib.request.urlopen(url).read()\n",
        "print(ur)"
      ],
      "execution_count": 0,
      "outputs": []
    },
    {
      "metadata": {
        "id": "TxdlQS0V6GxD",
        "colab_type": "code",
        "colab": {}
      },
      "cell_type": "code",
      "source": [
        "##### Requests\n",
        "\n",
        "import requests\n",
        "\n",
        "url = \"http://pares.mcu.es/ParesBusquedas20/catalogo/contiene/1930216\"\n",
        "r = requests.get(url)\n",
        "print(r.text)"
      ],
      "execution_count": 0,
      "outputs": []
    },
    {
      "metadata": {
        "id": "mrEWeb3K6SE5",
        "colab_type": "code",
        "colab": {}
      },
      "cell_type": "code",
      "source": [
        "####### URL\n",
        "\n",
        "import requests\n",
        "\n",
        "ident = input('Ingresar el número de la unidad de descripción: ')\n",
        "\n",
        "host = \"http://pares.mcu.es\"\n",
        "ruta_entrada = \"/ParesBusquedas20/catalogo/contiene/{}\".format(ident)\n",
        "url = \"{}{}\".format(host, ruta_entrada)\n",
        "\n",
        "r = requests.get(url)\n",
        "print(r.text)"
      ],
      "execution_count": 0,
      "outputs": []
    },
    {
      "metadata": {
        "id": "JKcBTg0X6nV0",
        "colab_type": "code",
        "colab": {}
      },
      "cell_type": "code",
      "source": [
        "###### Beautiful Soup\n",
        "\n",
        "import urllib\n",
        "from bs4 import BeautifulSoup\n",
        "\n",
        "ident = input('Ingresar el número de la unidad de descripción: ')\n",
        "\n",
        "host = \"http://pares.mcu.es\"\n",
        "ruta_entrada = \"/ParesBusquedas20/catalogo/contiene/{}\".format(ident)\n",
        "url = \"{}{}\".format(host, ruta_entrada)\n",
        "\n",
        "salsa = urllib.request.urlopen(url).read()\n",
        "sopa = BeautifulSoup(salsa, 'html.parser')\n",
        "\n",
        "print(sopa)"
      ],
      "execution_count": 0,
      "outputs": []
    },
    {
      "metadata": {
        "id": "sKb8OULE62kz",
        "colab_type": "code",
        "colab": {}
      },
      "cell_type": "code",
      "source": [
        "#### Beautiful Soup 2\n",
        "\n",
        "import urllib\n",
        "from bs4 import BeautifulSoup\n",
        "\n",
        "ident = input('Ingresar el número de la unidad de descripción: ')\n",
        "\n",
        "host = \"http://pares.mcu.es\"\n",
        "ruta_entrada = \"/ParesBusquedas20/catalogo/contiene/{}\".format(ident)\n",
        "url = \"{}{}\".format(host, ruta_entrada)\n",
        "\n",
        "salsa = urllib.request.urlopen(url).read()\n",
        "sopa = BeautifulSoup(salsa, 'html.parser')\n",
        "\n",
        "for links in sopa.find_all('a'):\n",
        "\tprint(links.prettify())"
      ],
      "execution_count": 0,
      "outputs": []
    },
    {
      "metadata": {
        "id": "qwxnaBSU7G2I",
        "colab_type": "code",
        "colab": {}
      },
      "cell_type": "code",
      "source": [
        "###### Beautiful Soup 3\n",
        "\n",
        "import urllib\n",
        "from bs4 import BeautifulSoup\n",
        "\n",
        "ident = input('Ingresar el número de la unidad de descripción: ')\n",
        "\n",
        "host = \"http://pares.mcu.es\"\n",
        "ruta_entrada = \"/ParesBusquedas20/catalogo/contiene/{}\".format(ident)\n",
        "url = \"{}{}\".format(host, ruta_entrada)\n",
        "\n",
        "salsa = urllib.request.urlopen(url).read()\n",
        "sopa = BeautifulSoup(salsa, 'html.parser')\n",
        "\n",
        "for links in sopa.find_all('a'):\n",
        "\tprint(links.text)"
      ],
      "execution_count": 0,
      "outputs": []
    },
    {
      "metadata": {
        "id": "xwhdrptQEsA1",
        "colab_type": "code",
        "colab": {}
      },
      "cell_type": "code",
      "source": [
        "## El siguiente código está adapatado para funcionar en colab. \n",
        "\n",
        "#instalamos chromium y selenium\n",
        "\n",
        "!apt install chromium-chromedriver\n",
        "!cp /usr/lib/chromium-browser/chromedriver /usr/bin\n",
        "!pip install selenium\n",
        "\n",
        "# importamos Selenium\n",
        "\n",
        "from selenium import webdriver\n",
        "\n",
        "# Configuramos Chromium\n",
        "\n",
        "options = webdriver.ChromeOptions()\n",
        "options.add_argument('--headless')\n",
        "options.add_argument('--no-sandbox')\n",
        "options.add_argument('--disable-dev-shm-usage')"
      ],
      "execution_count": 0,
      "outputs": []
    },
    {
      "metadata": {
        "id": "uSxAkMqR7YjA",
        "colab_type": "code",
        "colab": {}
      },
      "cell_type": "code",
      "source": [
        "##### Selenium\n",
        "\n",
        "from bs4 import BeautifulSoup\n",
        "from selenium import webdriver\n",
        "\n",
        "ident = input('Ingresar el número de la unidad de descripción: ')\n",
        "\n",
        "host = \"http://pares.mcu.es\"\n",
        "ruta_entrada = \"/ParesBusquedas20/catalogo/contiene/{}\".format(ident)\n",
        "url = \"{}{}\".format(host, ruta_entrada)\n",
        "\n",
        "browser = webdriver.Chrome('chromedriver',options=options) # (editado para Colab)\n",
        "browser.get(url)\n",
        "\n",
        "print(browser.page_source) # Comprueba el funcionamiento de Selenium\n",
        "input('Presione ENTER para salir del navegador de pruebas')\n",
        "browser.quit()"
      ],
      "execution_count": 0,
      "outputs": []
    },
    {
      "metadata": {
        "id": "UbpGwaxLCOgq",
        "colab_type": "code",
        "colab": {}
      },
      "cell_type": "code",
      "source": [
        "###### Selenium 2\n",
        "\n",
        "import time\n",
        "from bs4 import BeautifulSoup\n",
        "from selenium import webdriver\n",
        "from selenium.webdriver.common.keys import Keys\n",
        "\n",
        "ident = input('Ingresar el número de la unidad de descripción: ')\n",
        "\n",
        "host = \"http://pares.mcu.es\"\n",
        "ruta_entrada = \"/ParesBusquedas20/catalogo/contiene/{}\".format(ident)\n",
        "url = \"{}{}\".format(host, ruta_entrada)\n",
        "\n",
        "browser = webdriver.Chrome('chromedriver',options=options) # (editado para Colab)\n",
        "browser.get(url)\n",
        "\n",
        "print(browser.page_source) # Comprobación del funcionamiento\n",
        "\n",
        "time.sleep(1)\n",
        "ruti = browser.find_element_by_xpath('//*[@id=\"resultados\"]/div[2]/a[5]')\n",
        "ruti.click()\n",
        "time.sleep(3)\n",
        "\n",
        "print(\"PÁGINA 2 \\n\")\n",
        "print(browser.page_source) # Comprobación del funcionamiento\n",
        "input('Presione ENTER para salir del navegador de pruebas')\n",
        "browser.quit()"
      ],
      "execution_count": 0,
      "outputs": []
    },
    {
      "metadata": {
        "id": "Hwj-KnFlDpKD",
        "colab_type": "code",
        "colab": {}
      },
      "cell_type": "code",
      "source": [
        "###### Selenium 3\n",
        "\n",
        "import time\n",
        "from bs4 import BeautifulSoup\n",
        "from selenium import webdriver\n",
        "from selenium.webdriver.common.keys import Keys\n",
        "\n",
        "ident = input('Ingresar el número de la unidad de descripción: ')\n",
        "\n",
        "host = \"http://pares.mcu.es\"\n",
        "ruta_entrada = \"/ParesBusquedas20/catalogo/contiene/{}\".format(ident)\n",
        "url = \"{}{}\".format(host, ruta_entrada)\n",
        "\n",
        "browser = webdriver.Chrome('chromedriver',options=options) # (editado para Colab)\n",
        "browser.get(url)\n",
        "\n",
        "listado = []\n",
        "\n",
        "soup = BeautifulSoup(browser.page_source, 'html.parser')\n",
        "for em in soup(\"em\"):\n",
        "\tsoup.em.decompose()\n",
        "caja = soup.select('table.displayTable tbody')\n",
        "for box in caja:\n",
        "\ttotal = box.select('p.fecha')\n",
        "\tfor columns in total:\n",
        "\t\tfecha = columns.get_text()\n",
        "\t\tlistado.append(fecha)\n",
        "time.sleep(1)\n",
        "ruti = browser.find_element_by_xpath('//*[@id=\"resultados\"]/div[2]/a[5]')\n",
        "ruti.click()\n",
        "time.sleep(3)\n",
        "soup = BeautifulSoup(browser.page_source, 'html.parser')\n",
        "for em in soup(\"em\"):\n",
        "\tsoup.em.decompose()\n",
        "caja = soup.select('table.displayTable tbody')\n",
        "for box in caja:\n",
        "\ttotal = box.select('p.fecha')\n",
        "\tfor columns in total:\n",
        "\t\tfecha = columns.get_text()\n",
        "\t\tlistado.append(fecha)\n",
        "\n",
        "browser.quit()\n",
        "\n",
        "print(listado)\n",
        "\n",
        "input('Presione ENTER para salir del programa')\n"
      ],
      "execution_count": 0,
      "outputs": []
    }
  ]
}